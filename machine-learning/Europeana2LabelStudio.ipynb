{
 "cells": [
  {
   "cell_type": "markdown",
   "metadata": {},
   "source": [
    "# Europeana 2 Label Studio\n",
    "\n",
    "This notebook generates a [Label Studio](https://labelstud.io/) input file from a given Europeana Lucene query."
   ]
  },
  {
   "cell_type": "code",
   "execution_count": null,
   "metadata": {},
   "outputs": [],
   "source": [
    "!pip3 install https://github.com/glaciers-in-archives/gia-core/archive/0.1.0.tar.gz"
   ]
  },
  {
   "cell_type": "code",
   "execution_count": null,
   "metadata": {},
   "outputs": [],
   "source": [
    "from giacore.repositories import europeana\n",
    "from giacore.labelstudio import TaskList"
   ]
  },
  {
   "cell_type": "markdown",
   "metadata": {},
   "source": [
    "Note that this generator has no upper limit to how many items it can return so make sure your query does not return to many(tens of thousands is okay)."
   ]
  },
  {
   "cell_type": "code",
   "execution_count": null,
   "metadata": {},
   "outputs": [],
   "source": [
    "lucene_query = input('Europeana Lucene query: ')"
   ]
  },
  {
   "cell_type": "code",
   "execution_count": null,
   "metadata": {},
   "outputs": [],
   "source": [
    "tasks = TaskList()\n",
    "\n",
    "for record in europeana(lucene_query, key='api2demo'):\n",
    "    metadata = dict()\n",
    "    metadata['uri'] = record['id']\n",
    "    metadata['source'] = record['source_url']\n",
    "    metadata['description'] = record['text']\n",
    "    metadata['provider'] = record['provider']\n",
    "    task_data = dict()\n",
    "    task_data['text'] = record['made_up_description']\n",
    "    task_data['image'] = record['thumbnail']\n",
    "    task_data['author'] = record['author']\n",
    "    tasks.add_task(keys=task_data, metadata=metadata)"
   ]
  },
  {
   "cell_type": "code",
   "execution_count": null,
   "metadata": {},
   "outputs": [],
   "source": [
    "import urllib\n",
    "from IPython.display import HTML\n",
    "blob = urllib.parse.quote(tasks.get_data_as_json().encode('utf-8'), safe='~()*!.\\'') # matches encodeURIComponent()\n",
    "HTML('<a download=\"file.json\" href=\"data:text/plain;charset=utf-8,{}\">Download</a>'.format(blob))"
   ]
  }
 ],
 "metadata": {
  "kernelspec": {
   "display_name": "Python 3",
   "language": "python",
   "name": "python3"
  },
  "language_info": {
   "codemirror_mode": {
    "name": "ipython",
    "version": 3
   },
   "file_extension": ".py",
   "mimetype": "text/x-python",
   "name": "python",
   "nbconvert_exporter": "python",
   "pygments_lexer": "ipython3",
   "version": "3.8.5"
  }
 },
 "nbformat": 4,
 "nbformat_minor": 4
}
