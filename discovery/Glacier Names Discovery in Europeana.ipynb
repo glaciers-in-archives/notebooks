{
 "cells": [
  {
   "cell_type": "markdown",
   "metadata": {},
   "source": [
    "# Glacier Names Discovery in Europeana\n",
    "\n",
    "This notebook shows how to use the [Glacier names dataset](https://figshare.com/articles/dataset/Glacier_names/13574378) to discover glacier content in Europeana."
   ]
  },
  {
   "cell_type": "code",
   "execution_count": null,
   "metadata": {},
   "outputs": [],
   "source": [
    "!pip install https://github.com/glaciers-in-archives/gia-core/archive/0.1.0.tar.gz"
   ]
  },
  {
   "cell_type": "markdown",
   "metadata": {},
   "source": [
    "The Glacier names dataset is just a txt file which we can split into a list:"
   ]
  },
  {
   "cell_type": "code",
   "execution_count": null,
   "metadata": {},
   "outputs": [],
   "source": [
    "import requests\n",
    "\n",
    "r = requests.get('https://ndownloader.figshare.com/files/28207683')\n",
    "glacier_names = r.content.decode('utf-8').split('\\n')\n",
    "\n",
    "len(glacier_names)"
   ]
  },
  {
   "cell_type": "code",
   "execution_count": null,
   "metadata": {},
   "outputs": [],
   "source": [
    "from giacore.repositories import europeana\n",
    "\n",
    "lucene_query = 'glacier OR glaciär OR breen OR gletscher OR ghiacciaio'\n",
    "\n",
    "record_texts= list()\n",
    "for record in europeana(lucene_query, key='api2demo'):\n",
    "    record_texts.append(record['made_up_description'].lower())\n",
    "\n",
    "len(record_texts)"
   ]
  },
  {
   "cell_type": "markdown",
   "metadata": {},
   "source": [
    "Note that this backtracking regex will take quite a while to run."
   ]
  },
  {
   "cell_type": "code",
   "execution_count": null,
   "metadata": {},
   "outputs": [],
   "source": [
    "import re\n",
    "\n",
    "found_names = list()\n",
    "for text in record_texts:\n",
    "    for name in glacier_names:\n",
    "        if re.search(r'\\b{}\\b'.format(name), text, re.MULTILINE):\n",
    "            found_names.append(name)\n",
    "len(found_names)"
   ]
  },
  {
   "cell_type": "code",
   "execution_count": null,
   "metadata": {},
   "outputs": [],
   "source": [
    "from collections import Counter\n",
    "\n",
    "sorted(Counter(found_names).items(), key=lambda pair: pair[1], reverse=True)"
   ]
  }
 ],
 "metadata": {
  "kernelspec": {
   "display_name": "Python 3",
   "language": "python",
   "name": "python3"
  },
  "language_info": {
   "codemirror_mode": {
    "name": "ipython",
    "version": 3
   },
   "file_extension": ".py",
   "mimetype": "text/x-python",
   "name": "python",
   "nbconvert_exporter": "python",
   "pygments_lexer": "ipython3",
   "version": "3.8.5"
  }
 },
 "nbformat": 4,
 "nbformat_minor": 4
}
